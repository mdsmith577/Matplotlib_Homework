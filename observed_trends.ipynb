{
 "cells": [
  {
   "cell_type": "markdown",
   "metadata": {},
   "source": [
    "## Three Observable Trends Based on the Data"
   ]
  },
  {
   "cell_type": "markdown",
   "metadata": {},
   "source": [
    " 1) Cancer metastasis is the spread of cancer cells to tissues and organs beyond where the tumor originated. Based on the figure \"Metastatic Spread During Treatment\", Ramicane showed the best results in keeping growth of metastatic sites to a minimum, around 1.3 sites at the end of treatment.  Compare this to the seemingly worst treatment in the test, Ketapril, in which metastatic sites grew to around 3.4 by end of treatment.  Given the goal is to hinder the growth of cancer, it appears Ramicane may be the best option as it's results showed it had the slowest cancer growth rate during the 45 days of treatment."
   ]
  },
  {
   "cell_type": "markdown",
   "metadata": {},
   "source": [
    " 2) Looking at the figure \"Survival During Treatment\", it is very clear there are two distinct groups of survival results.  Capomulin and Ramicane far and away yielded the best survival rates during the test, whereas, the other eight drugs saw final survival rates between 25% and 55%.  Both Capomulin and Ramicane both exhibited survival rates >=80% which makes them outliers in the best way possible in this test. Based on these results and the somewhat negligible difference between Capomulin and Ramicane, I would recommended either of those over the other drugs from a survival rate perspective"
   ]
  },
  {
   "cell_type": "markdown",
   "metadata": {},
   "source": [
    " 3) Reviewing the figure \"Tumor Change Over 45 Day Treatment\", there are only two drugs which caused tumor volume to decrease during the 45 days: Capomulin and Ramicane.  On two ends of the spectrum, tumor volume actually reduced by 22% when on Ramicane and tumor volume increased a whopping 57% when on Ketapril. Based on this figure as well as others, it's clear Ramicane is the right choice to: 1) minimize tumor spreading, 2) ensure the patient will survive, and 3) reduce the overall volume of the tumors."
   ]
  },
  {
   "cell_type": "code",
   "execution_count": null,
   "metadata": {},
   "outputs": [],
   "source": []
  }
 ],
 "metadata": {
  "anaconda-cloud": {},
  "kernelspec": {
   "display_name": "Python 3",
   "language": "python",
   "name": "python3"
  },
  "language_info": {
   "codemirror_mode": {
    "name": "ipython",
    "version": 3
   },
   "file_extension": ".py",
   "mimetype": "text/x-python",
   "name": "python",
   "nbconvert_exporter": "python",
   "pygments_lexer": "ipython3",
   "version": "3.7.1"
  }
 },
 "nbformat": 4,
 "nbformat_minor": 1
}
